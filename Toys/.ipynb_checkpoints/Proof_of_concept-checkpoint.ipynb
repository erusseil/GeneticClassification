{
 "cells": [
  {
   "cell_type": "code",
   "execution_count": 14,
   "id": "instant-access",
   "metadata": {},
   "outputs": [
    {
     "name": "stdout",
     "output_type": "stream",
     "text": [
      "Populating the interactive namespace from numpy and matplotlib\n"
     ]
    },
    {
     "name": "stderr",
     "output_type": "stream",
     "text": [
      "/home/lsst/miniconda3/lib/python3.8/site-packages/IPython/core/magics/pylab.py:159: UserWarning: pylab import has clobbered these variables: ['det', 'plotting', 'cos', 'ones', 'var', 'show', 'interactive', 'beta', 'sqrt', 'take', 'pi', 'gcd', 'Number', 'seterr', 'log', 'tanh', 'cosh', 'sign', 'Polygon', 'lcm', 'tan', 'Circle', 'trace', 'ifft', 'exp', 'cbrt', 'eye', 'save', 'invert', 'binomial', 'zeros', 'reshape', 'plot', 'conjugate', 'flatten', 'diag', 'nan', 'sin', 'poly', 'sinc', 'minimum', 'Line2D', 'shape', 'sinh', 'prod', 'partition', 'product', 're', 'solve', 'fft', 'vectorize', 'norm', 'maximum', 'floor', 'gamma', 'roots', 'source', 'test', 'diff', 'trunc', 'transpose']\n",
      "`%matplotlib` prevents importing * from pylab and numpy\n",
      "  warn(\"pylab import has clobbered these variables: %s\"  % clobbered +\n"
     ]
    }
   ],
   "source": [
    "%pylab inline\n",
    "import sys \n",
    "import os\n",
    "import matplotlib.pyplot as plt\n",
    "import numpy as np\n",
    "import pandas as pd\n",
    "from sklearn.model_selection import train_test_split\n",
    "from sympy import *"
   ]
  },
  {
   "cell_type": "markdown",
   "id": "cross-insured",
   "metadata": {},
   "source": [
    "## Create data toy"
   ]
  },
  {
   "cell_type": "code",
   "execution_count": 2,
   "id": "reliable-arrival",
   "metadata": {},
   "outputs": [],
   "source": [
    "x_single = np.arange(-5, 5, 0.1)\n",
    "x = np.resize(x_single,(3,len(x_single)))\n",
    "\n",
    "nb_obj = 100"
   ]
  },
  {
   "cell_type": "markdown",
   "id": "fluid-shoulder",
   "metadata": {},
   "source": [
    "### Gaussian curves"
   ]
  },
  {
   "cell_type": "code",
   "execution_count": 3,
   "id": "viral-belle",
   "metadata": {},
   "outputs": [],
   "source": [
    "def fun_gauss(x,mu,sigma):\n",
    "    y_out =  np.exp( - (x - mu)**2 / (2 * sigma**2))\n",
    "    return y_out\n",
    "\n",
    "\n",
    "mu = random.uniform(-2, 2, nb_obj)\n",
    "sigma = random.uniform(0, 2, nb_obj)\n",
    "\n",
    "y_gauss = []\n",
    "for i in range(nb_obj):\n",
    "    shape = fun_gauss(x_single,mu[i],sigma[i])\n",
    "    if choice([1,0])==1:\n",
    "        y_gauss.append(-shape)\n",
    "    else :\n",
    "        y_gauss.append(shape)"
   ]
  },
  {
   "cell_type": "markdown",
   "id": "purple-thought",
   "metadata": {},
   "source": [
    "### Double step functions"
   ]
  },
  {
   "cell_type": "code",
   "execution_count": 4,
   "id": "treated-fever",
   "metadata": {},
   "outputs": [],
   "source": [
    "width = random.uniform(1, 1.5, nb_obj)\n",
    "width2 = random.uniform(1, 1.5, nb_obj)\n",
    "start = random.uniform(-5, 2, nb_obj)\n",
    "height = random.uniform(-3, 3, nb_obj)\n",
    "height2 = random.uniform(-3, 3, nb_obj)\n",
    "\n",
    "y_step = []\n",
    "for i in range(len(x_single)):\n",
    "    temporary = []\n",
    "    for j in x_single:\n",
    "        \n",
    "        if start[i]<j<start[i]+width[i]:\n",
    "            temporary.append(height[i])\n",
    "        elif start[i]+width[i]<j<start[i]+width[i]+width2[i]:\n",
    "            temporary.append(height2[i])\n",
    "        else :\n",
    "            temporary.append(0)\n",
    "    y_step.append(temporary)"
   ]
  },
  {
   "cell_type": "markdown",
   "id": "handled-waste",
   "metadata": {},
   "source": [
    "### Line functions"
   ]
  },
  {
   "cell_type": "code",
   "execution_count": 5,
   "id": "personalized-bargain",
   "metadata": {},
   "outputs": [],
   "source": [
    "a = random.uniform(-2,2, nb_obj)\n",
    "b = random.uniform(0, 2, nb_obj)\n",
    "\n",
    "y_line = []\n",
    "for i in range(len(a)):\n",
    "    y_line.append(a[i]*x_single+b[i])"
   ]
  },
  {
   "cell_type": "markdown",
   "id": "persistent-release",
   "metadata": {},
   "source": [
    "## Plot random toys "
   ]
  },
  {
   "cell_type": "code",
   "execution_count": 6,
   "id": "norwegian-rehabilitation",
   "metadata": {
    "scrolled": false
   },
   "outputs": [
    {
     "data": {
      "image/png": "[encoded data removed]",
      "text/plain": [
       "<Figure size 1008x504 with 1 Axes>"
      ]
     },
     "metadata": {
      "needs_background": "light"
     },
     "output_type": "display_data"
    }
   ],
   "source": [
    "show = randint(0,nb_obj )\n",
    "\n",
    "plt.figure(figsize=(14,7))\n",
    "\n",
    "plt.scatter(x_single,y_line[show],label='Function 1 : Line')\n",
    "plt.scatter(x_single,y_gauss[show],label='Function 2 : Gaussian')\n",
    "plt.scatter(x_single,y_step[show],label='Function 3 : Step')\n",
    "\n",
    "\n",
    "plt.title('Two functions to separate',fontsize = 18)\n",
    "plt.xlabel('Time',fontsize = 16)\n",
    "plt.ylabel('Y',fontsize = 16)\n",
    "plt.legend(fontsize = 14)\n",
    "plt.pause(1)"
   ]
  },
  {
   "cell_type": "markdown",
   "id": "japanese-eleven",
   "metadata": {},
   "source": [
    "## Feature extraction\n",
    "### Compute standard deviation and mean of each toy"
   ]
  },
  {
   "cell_type": "code",
   "execution_count": 7,
   "id": "formal-serve",
   "metadata": {},
   "outputs": [],
   "source": [
    "std_gauss = np.std(y_gauss,axis=1)\n",
    "mean_gauss = np.mean(y_gauss,axis=1)\n",
    "\n",
    "std_line = np.std(y_line,axis=1)\n",
    "mean_line = np.mean(y_line,axis=1)\n",
    "\n",
    "std_step = np.std(y_step,axis=1)\n",
    "mean_step = np.mean(y_step,axis=1)"
   ]
  },
  {
   "cell_type": "markdown",
   "id": "strategic-minimum",
   "metadata": {},
   "source": [
    "### Plot the parameter space"
   ]
  },
  {
   "cell_type": "code",
   "execution_count": 8,
   "id": "flexible-lottery",
   "metadata": {},
   "outputs": [
    {
     "data": {
      "text/plain": [
       "<matplotlib.legend.Legend at 0x7f2701cc5df0>"
      ]
     },
     "execution_count": 8,
     "metadata": {},
     "output_type": "execute_result"
    },
    {
     "data": {
      "image/png": "[encoded data removed]",
      "text/plain": [
       "<Figure size 792x504 with 1 Axes>"
      ]
     },
     "metadata": {
      "needs_background": "light"
     },
     "output_type": "display_data"
    }
   ],
   "source": [
    "plt.figure(figsize=(11,7))\n",
    "\n",
    "plt.scatter(mean_line,std_step,label = 'Lines',c='blue')\n",
    "plt.scatter(mean_gauss,std_gauss,label = 'Gaussians',c='orange')\n",
    "plt.scatter(mean_step,std_step,label = 'Steps',c='red')\n",
    "\n",
    "plt.xlabel('MEAN')\n",
    "plt.ylabel('STD')\n",
    "plt.legend(fontsize = 14)"
   ]
  },
  {
   "cell_type": "markdown",
   "id": "accepted-blanket",
   "metadata": {},
   "source": [
    "## Prepare the data for genetic evolution"
   ]
  },
  {
   "cell_type": "markdown",
   "id": "informal-astrology",
   "metadata": {},
   "source": [
    "### Choose an attractor goal value for each type of object"
   ]
  },
  {
   "cell_type": "code",
   "execution_count": 19,
   "id": "announced-newcastle",
   "metadata": {},
   "outputs": [
    {
     "data": {
      "text/plain": [
       "{'Line': 10, 'Gaussian': -10, 'Step': 0}"
      ]
     },
     "execution_count": 19,
     "metadata": {},
     "output_type": "execute_result"
    }
   ],
   "source": [
    "goalline= 10\n",
    "goalgauss= -10\n",
    "goalstep=0\n",
    "\n",
    "labelline = ['Line']*len(std_line)\n",
    "labelgauss = ['Gaussian']*len(std_gauss)\n",
    "labelstep = ['Step']*len(std_step)\n",
    "\n",
    "dic_classes = {labelline[0]:goalline, labelgauss[0]:goalgauss, labelstep[0]:goalstep}\n",
    "dic_classes"
   ]
  },
  {
   "cell_type": "markdown",
   "id": "functioning-drink",
   "metadata": {},
   "source": [
    "### Create the data frame"
   ]
  },
  {
   "cell_type": "code",
   "execution_count": 10,
   "id": "early-activation",
   "metadata": {},
   "outputs": [
    {
     "data": {
      "text/html": [
       "<div>\n",
       "<style scoped>\n",
       "    .dataframe tbody tr th:only-of-type {\n",
       "        vertical-align: middle;\n",
       "    }\n",
       "\n",
       "    .dataframe tbody tr th {\n",
       "        vertical-align: top;\n",
       "    }\n",
       "\n",
       "    .dataframe thead th {\n",
       "        text-align: right;\n",
       "    }\n",
       "</style>\n",
       "<table border=\"1\" class=\"dataframe\">\n",
       "  <thead>\n",
       "    <tr style=\"text-align: right;\">\n",
       "      <th></th>\n",
       "      <th>STD</th>\n",
       "      <th>MEAN</th>\n",
       "      <th>TARGET</th>\n",
       "    </tr>\n",
       "  </thead>\n",
       "  <tbody>\n",
       "    <tr>\n",
       "      <th>0</th>\n",
       "      <td>2.741257</td>\n",
       "      <td>0.558603</td>\n",
       "      <td>Line</td>\n",
       "    </tr>\n",
       "    <tr>\n",
       "      <th>1</th>\n",
       "      <td>3.457138</td>\n",
       "      <td>0.262055</td>\n",
       "      <td>Line</td>\n",
       "    </tr>\n",
       "    <tr>\n",
       "      <th>2</th>\n",
       "      <td>1.034279</td>\n",
       "      <td>0.554982</td>\n",
       "      <td>Line</td>\n",
       "    </tr>\n",
       "    <tr>\n",
       "      <th>3</th>\n",
       "      <td>4.142687</td>\n",
       "      <td>0.255413</td>\n",
       "      <td>Line</td>\n",
       "    </tr>\n",
       "    <tr>\n",
       "      <th>4</th>\n",
       "      <td>1.089892</td>\n",
       "      <td>0.085711</td>\n",
       "      <td>Line</td>\n",
       "    </tr>\n",
       "  </tbody>\n",
       "</table>\n",
       "</div>"
      ],
      "text/plain": [
       "        STD      MEAN TARGET\n",
       "0  2.741257  0.558603   Line\n",
       "1  3.457138  0.262055   Line\n",
       "2  1.034279  0.554982   Line\n",
       "3  4.142687  0.255413   Line\n",
       "4  1.089892  0.085711   Line"
      ]
     },
     "execution_count": 10,
     "metadata": {},
     "output_type": "execute_result"
    }
   ],
   "source": [
    "data = pd.DataFrame(data = {'STD': list(std_line)+list(std_gauss)+list(std_step),\n",
    "                            'MEAN': list(mean_line)+list(mean_gauss)+list(mean_step),\n",
    "                            'TARGET': labelline+labelgauss+labelstep})\n",
    "\n",
    "\n",
    "# Then split it into train and test samples\n",
    "X_train, X_test, y_train, y_test = train_test_split(data.loc[:,['MEAN','STD']], data.loc[:,'TARGET'], test_size=0.30, random_state=42)\n",
    "\n",
    "data.head()"
   ]
  },
  {
   "cell_type": "markdown",
   "id": "early-signal",
   "metadata": {},
   "source": [
    "## Evolve towards ideal function"
   ]
  },
  {
   "cell_type": "code",
   "execution_count": 17,
   "id": "tutorial-narrow",
   "metadata": {},
   "outputs": [],
   "source": [
    "#Import evolution scripts\n",
    "sys.path.append(os.path.abspath('../Scripts'))\n",
    "from create_model import *"
   ]
  },
  {
   "cell_type": "markdown",
   "id": "magnetic-norway",
   "metadata": {},
   "source": [
    "### Choose the parameters "
   ]
  },
  {
   "cell_type": "code",
   "execution_count": 11,
   "id": "norman-graduate",
   "metadata": {},
   "outputs": [],
   "source": [
    "features = X_train\n",
    "classes = y_train\n",
    "\n",
    "save = 'Saves/toy_example'\n",
    "population_size=100\n",
    "generations=30"
   ]
  },
  {
   "cell_type": "markdown",
   "id": "liked-stretch",
   "metadata": {},
   "source": [
    "### Create your function"
   ]
  },
  {
   "cell_type": "code",
   "execution_count": 16,
   "id": "necessary-rebel",
   "metadata": {},
   "outputs": [
    {
     "name": "stdout",
     "output_type": "stream",
     "text": [
      "    |   Population Average    |             Best Individual              |\n",
      "---- ------------------------- ------------------------------------------ ----------\n",
      " Gen   Length          Fitness   Length          Fitness      OOB Fitness  Time Left\n",
      "   0    14.06          25.2772        6          6.08927          6.05042      2.33s\n",
      "   1     6.18           6.8678        8          5.79482           6.5971      1.57s\n",
      "   2     6.06          7.22063       11          5.43969          7.65412      1.39s\n",
      "   3     7.72          7.05736       17          5.34457          7.29233      1.46s\n",
      "   4    10.23          7.53557       11          4.78142          5.80403      1.48s\n",
      "   5    13.00          7.82633       14          4.10833          4.48787      1.36s\n",
      "   6    16.35          6.26841       20          4.09247           5.0248      1.34s\n",
      "   7    15.17          5.74927       17            3.967          5.82276      1.44s\n",
      "   8    15.82          6.57551       22          3.96782          6.29748      1.41s\n",
      "   9    15.79          5.36443       14          4.03357          5.16071      1.22s\n",
      "  10    15.73          6.28516       25          3.88511          5.90691      1.12s\n",
      "  11    16.96          5.97369       25          3.87234          6.02189      1.26s\n",
      "  12    18.44          6.62949       25          3.91075          5.67615      1.14s\n",
      "  13    18.22          5.50984       22          3.85605          4.80037      1.00s\n",
      "  14    20.63           6.1258       24          3.81623          4.11097      0.96s\n",
      "  15    21.86          5.01933       24          3.78299          4.41011      1.04s\n",
      "  16    20.08          5.75043       24          3.78146          4.51327      1.01s\n",
      "  17    23.80          6.14192       24          3.73001          4.97627      0.96s\n",
      "  18    23.50          5.48251       29          3.63901          3.18311      0.91s\n",
      "  19    23.82          5.66867       29          3.61526          5.35192      0.78s\n",
      "  20    25.97          6.21162       29          3.44852           4.0033      0.92s\n",
      "  21    27.21          6.61317       32          3.49443          4.45154      0.83s\n",
      "  22    26.93          11.6399       26          3.39605          5.01039      0.55s\n",
      "  23    30.06          10.5761       29          3.45062          4.87857      0.45s\n",
      "  24    30.92          9.18129       32          3.40974          4.80222      0.39s\n",
      "  25    29.86           6.9053       29          3.26871          3.83187      0.34s\n",
      "  26    25.69          7.25579       29          3.31777          3.39032      0.21s\n",
      "  27    28.28          15.2016       29          3.22256          4.24725      0.16s\n",
      "  28    27.98          9.32625       41          3.17043          3.15437      0.10s\n",
      "  29    29.96           9.6125       41          3.12119           3.5976      0.00s\n",
      "R2: 0.6668139762145615\n",
      "2*STD - cos(STD) - cos(1.18203309692671*(-2.36406619385343*MEAN + 1.18203309692671*cos(STD))/STD) - 1.39720224223016*(-2.36406619385343*MEAN + 1.18203309692671*cos(STD))/STD\n"
     ]
    },
    {
     "data": {
      "text/latex": [
       "$\\displaystyle 2 STD - \\cos{\\left(STD \\right)} - \\cos{\\left(\\frac{1.18203309692671 \\left(- 2.36406619385343 MEAN + 1.18203309692671 \\cos{\\left(STD \\right)}\\right)}{STD} \\right)} - \\frac{1.39720224223016 \\left(- 2.36406619385343 MEAN + 1.18203309692671 \\cos{\\left(STD \\right)}\\right)}{STD}$"
      ],
      "text/plain": [
       "2*STD - cos(STD) - cos(1.18203309692671*(-2.36406619385343*MEAN + 1.18203309692671*cos(STD))/STD) - 1.39720224223016*(-2.36406619385343*MEAN + 1.18203309692671*cos(STD))/STD"
      ]
     },
     "execution_count": 16,
     "metadata": {},
     "output_type": "execute_result"
    }
   ],
   "source": [
    "model = evolve(features, classes, dic_goals, save, population_size=population_size, generations=generations)\n",
    "\n",
    "# Print the mathematical equation of the function\n",
    "sympify((str(model._program)), locals=converter)"
   ]
  },
  {
   "cell_type": "markdown",
   "id": "electrical-weekend",
   "metadata": {},
   "source": [
    "NB : A save of this function is created in a .pkl file"
   ]
  },
  {
   "cell_type": "markdown",
   "id": "relative-therapist",
   "metadata": {},
   "source": [
    "## Analyse the performance of the model"
   ]
  },
  {
   "cell_type": "code",
   "execution_count": null,
   "id": "conventional-confidence",
   "metadata": {},
   "outputs": [],
   "source": [
    "# Import the plotting scripts\n",
    "sys.path.append(os.path.abspath('../Scripts'))\n",
    "from plot import *"
   ]
  },
  {
   "cell_type": "markdown",
   "id": "satellite-yield",
   "metadata": {},
   "source": [
    "### Scatter plots :"
   ]
  },
  {
   "cell_type": "code",
   "execution_count": 18,
   "id": "future-smooth",
   "metadata": {},
   "outputs": [
    {
     "data": {
      "text/plain": [
       "{10: 'Line', -10: 'Gaussian', 0: 'Step'}"
      ]
     },
     "execution_count": 18,
     "metadata": {},
     "output_type": "execute_result"
    }
   ],
   "source": [
    "inv = {v: k for k, v in dic_goals.items()}\n",
    "inv"
   ]
  },
  {
   "cell_type": "code",
   "execution_count": null,
   "id": "headed-swimming",
   "metadata": {},
   "outputs": [],
   "source": []
  }
 ],
 "metadata": {
  "kernelspec": {
   "display_name": "Python 3",
   "language": "python",
   "name": "python3"
  },
  "language_info": {
   "codemirror_mode": {
    "name": "ipython",
    "version": 3
   },
   "file_extension": ".py",
   "mimetype": "text/x-python",
   "name": "python",
   "nbconvert_exporter": "python",
   "pygments_lexer": "ipython3",
   "version": "3.8.5"
  }
 },
 "nbformat": 4,
 "nbformat_minor": 5
}
