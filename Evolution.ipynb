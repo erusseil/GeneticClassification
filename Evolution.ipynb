{
 "cells": [
  {
   "cell_type": "code",
   "execution_count": 16,
   "id": "banned-regular",
   "metadata": {},
   "outputs": [],
   "source": [
    "import sys \n",
    "import os\n",
    "import matplotlib.pyplot as plt\n",
    "import numpy as np\n",
    "import pandas as pd\n",
    "sys.path.append(os.path.abspath('Scripts'))\n",
    "from create_model import *"
   ]
  },
  {
   "cell_type": "code",
   "execution_count": null,
   "id": "tender-potter",
   "metadata": {},
   "outputs": [],
   "source": [
    "features = \n",
    "classes = randint(low = 0,high = 3, size =len(features))\n",
    "dic_goals = {0:10,1:20,2:30}\n",
    "save = 'test'\n",
    "population_size=100\n",
    "generations=30"
   ]
  },
  {
   "cell_type": "code",
   "execution_count": null,
   "id": "human-switch",
   "metadata": {},
   "outputs": [],
   "source": [
    "evolve(features, classes, dic_goals, save, population_size=population_size, generations=generations)"
   ]
  }
 ],
 "metadata": {
  "kernelspec": {
   "display_name": "Python 3",
   "language": "python",
   "name": "python3"
  },
  "language_info": {
   "codemirror_mode": {
    "name": "ipython",
    "version": 3
   },
   "file_extension": ".py",
   "mimetype": "text/x-python",
   "name": "python",
   "nbconvert_exporter": "python",
   "pygments_lexer": "ipython3",
   "version": "3.8.5"
  }
 },
 "nbformat": 4,
 "nbformat_minor": 5
}
