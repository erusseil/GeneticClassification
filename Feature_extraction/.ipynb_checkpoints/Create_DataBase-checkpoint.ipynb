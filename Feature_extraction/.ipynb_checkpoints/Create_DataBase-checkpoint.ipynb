{
 "cells": [
  {
   "cell_type": "markdown",
   "id": "20d2bfd4",
   "metadata": {},
   "source": [
    "## Filter a data base and save it"
   ]
  },
  {
   "cell_type": "code",
   "execution_count": 3,
   "id": "d3595be1",
   "metadata": {},
   "outputs": [],
   "source": [
    "from data_base import *\n",
    "import numpy as np\n",
    "import pandas as pd"
   ]
  },
  {
   "cell_type": "code",
   "execution_count": 4,
   "id": "4b2015ee",
   "metadata": {},
   "outputs": [],
   "source": [
    "# Import your databases\n",
    "\n",
    "data = pd.read_csv(\"/media/RESSPECT/data/PLAsTiCC/PLAsTiCC_zenodo/plasticc_test_lightcurves_01.csv.gz\")\n",
    "metadata = pd.read_csv(\"/media/RESSPECT/data/PLAsTiCC/PLAsTiCC_zenodo/plasticc_test_metadata.csv\")"
   ]
  },
  {
   "cell_type": "code",
   "execution_count": 8,
   "id": "e5057d3d",
   "metadata": {},
   "outputs": [
    {
     "name": "stdout",
     "output_type": "stream",
     "text": [
      "\n",
      "\n",
      " CREATION OF THE TESTING DATA BASE\n",
      " \n",
      "We start with  32926 objects and 10855958 measurements\n",
      "\n",
      "PISN ignored\n",
      "\n",
      "After EXTRA-GALACTIC and DDF we have 32699 objects and 10782132 measurements\n",
      "--> There are  6 PISN in the dataset\n",
      "\n",
      "After PASSBANDS we have 32699 objects and 7008772 measurements\n",
      "--> There are  6 PISN in the dataset\n",
      "\n",
      "After DDB we have 32479 objects and 417646 measurements\n",
      "--> There are  6 PISN in the dataset\n",
      "\n",
      "Total time to normalise flux 0.2 sec\n",
      "\n",
      "Total time to check completness 0.5 sec\n",
      "\n",
      "After COMPLETNESS we are left with 4041 objects and 161833 measurements\n",
      "--> There are  3 PISN in the dataset\n"
     ]
    }
   ],
   "source": [
    "#Parameters\n",
    "\n",
    "band = [2,3,4,5]\n",
    "ratioPISN = -2\n",
    "Dbool = True\n",
    "ddf = True\n",
    "extra = True\n",
    "complete = True\n",
    "mjd_tozero = False\n",
    "half = False\n",
    "norm_flux = True\n",
    "mini = 4\n",
    "name = 'Clean_data/2345b_4pts_DDF'\n",
    "\n",
    "\n",
    "\n",
    "create(data, metadata,\n",
    "            band, name, ratioPISN=ratioPISN,\n",
    "            training=False, Dbool=Dbool,\n",
    "            ddf=ddf, extra=extra,\n",
    "            complete=complete, mjd_tozero=mjd_tozero, mini=mini,\n",
    "            half=half, metatest=metadata, norm_flux=norm_flux)"
   ]
  },
  {
   "cell_type": "code",
   "execution_count": null,
   "id": "8456c1bf-45bb-472a-86c7-d5c4c33cfe5c",
   "metadata": {},
   "outputs": [],
   "source": []
  }
 ],
 "metadata": {
  "kernelspec": {
   "display_name": "Python 3",
   "language": "python",
   "name": "python3"
  },
  "language_info": {
   "codemirror_mode": {
    "name": "ipython",
    "version": 3
   },
   "file_extension": ".py",
   "mimetype": "text/x-python",
   "name": "python",
   "nbconvert_exporter": "python",
   "pygments_lexer": "ipython3",
   "version": "3.6.9"
  }
 },
 "nbformat": 4,
 "nbformat_minor": 5
}
