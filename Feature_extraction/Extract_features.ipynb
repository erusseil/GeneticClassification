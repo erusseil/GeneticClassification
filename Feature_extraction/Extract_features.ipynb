{
 "cells": [
  {
   "cell_type": "code",
   "execution_count": 4,
   "id": "e73a94fd-6708-400d-992a-a51bc7c150c3",
   "metadata": {},
   "outputs": [],
   "source": [
    "import numpy as np\n",
    "import pandas as pd"
   ]
  },
  {
   "cell_type": "markdown",
   "id": "af516cfc-d8e7-4609-b0bc-b84a73636d8a",
   "metadata": {},
   "source": [
    "## Import data"
   ]
  },
  {
   "cell_type": "code",
   "execution_count": 5,
   "id": "0ab631b5-dc0e-4b93-ab23-a7c3f75c9dac",
   "metadata": {},
   "outputs": [],
   "source": [
    "clean = pd.read_pickle(\"Clean_data/2345b_4pts_DDF.pkl\")"
   ]
  },
  {
   "cell_type": "markdown",
   "id": "b7142b14-2ed9-4a48-bf0e-6381839d7927",
   "metadata": {},
   "source": [
    "## Choose the feature to extract"
   ]
  },
  {
   "cell_type": "code",
   "execution_count": 6,
   "id": "edf5ce17-60f3-4724-9f3b-bd81c63d0d6e",
   "metadata": {},
   "outputs": [],
   "source": [
    "import light_curve as lc\n",
    "\n",
    "amplitude = lc.Amplitude()\n",
    "reduced_chi2 = lc.ReducedChi2()\n",
    "beyond1 = lc.BeyondNStd(nstd=1)\n",
    "meanvar = lc.MeanVariance()\n",
    "stetson_k = lc.StetsonK()\n",
    "kurtosis = lc.Kurtosis()\n",
    "skew = lc.Skew()\n",
    "extractor = lc.Extractor(amplitude,reduced_chi2,beyond1,meanvar,skew,kurtosis,stetson_k)"
   ]
  },
  {
   "cell_type": "markdown",
   "id": "8486b73c-9a83-4fea-8bb1-682ff39bcae7",
   "metadata": {},
   "source": [
    "## Loop on all objects and create a data frame"
   ]
  },
  {
   "cell_type": "code",
   "execution_count": 7,
   "id": "b1c5a9d4-4cfd-49eb-b66c-c1e25ac1bdd7",
   "metadata": {},
   "outputs": [
    {
     "name": "stdout",
     "output_type": "stream",
     "text": [
      "FINITO 4041\r"
     ]
    }
   ],
   "source": [
    "id_list = np.unique(clean['object_id'])\n",
    "\n",
    "\n",
    "\n",
    "features = pd.DataFrame(columns = ['ID']+[a + '2' for a in list(extractor.names)]\n",
    "                                        +[a + '3' for a in list(extractor.names)]\n",
    "                                        +[a + '4' for a in list(extractor.names)]\n",
    "                                        +[a + '5' for a in list(extractor.names)]\n",
    "                                        +['TARGET'])\n",
    "\n",
    "for idx,item in enumerate(id_list):\n",
    "    \n",
    "    to_concat = np.array([])\n",
    "    for j in [2,3,4,5]:\n",
    "    \n",
    "        print('%s / %s'%(idx,len(id_list)), end='\\r')\n",
    "\n",
    "        is_obj = clean['object_id'] == item\n",
    "        is_band = clean['passband'] == j\n",
    "\n",
    "        obj = clean.loc[(is_obj)&(is_band),['mjd','flux','flux_err','target']]#\n",
    "\n",
    "        mini = obj['flux'].min()\n",
    "        obj.loc[:,['flux','flux_err']] = obj.loc[:,['flux','flux_err']]/mini\n",
    "        target = obj.iloc[0]['target']\n",
    "\n",
    "        extract = (extractor(obj['mjd'].values, obj['flux'].values, obj['flux_err'].values))\n",
    "        to_concat = np.append(to_concat,extract)\n",
    "     \n",
    "    features.loc[len(features)] = [int(item),*to_concat,target]\n",
    "\n",
    "print('FINITO',end = '\\r')"
   ]
  },
  {
   "cell_type": "code",
   "execution_count": 8,
   "id": "f05e6ee6-77d2-42cd-b3c9-c0fdfb95d44a",
   "metadata": {},
   "outputs": [],
   "source": [
    "features.to_pickle('Save_extractions/4b_7f.pkl')"
   ]
  },
  {
   "cell_type": "code",
   "execution_count": null,
   "id": "97e03a61-fcca-4cd9-8fdc-cdbad9623225",
   "metadata": {},
   "outputs": [],
   "source": []
  }
 ],
 "metadata": {
  "kernelspec": {
   "display_name": "Python 3",
   "language": "python",
   "name": "python3"
  },
  "language_info": {
   "codemirror_mode": {
    "name": "ipython",
    "version": 3
   },
   "file_extension": ".py",
   "mimetype": "text/x-python",
   "name": "python",
   "nbconvert_exporter": "python",
   "pygments_lexer": "ipython3",
   "version": "3.6.9"
  }
 },
 "nbformat": 4,
 "nbformat_minor": 5
}
